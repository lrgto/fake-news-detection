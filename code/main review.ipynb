{
 "cells": [
  {
   "cell_type": "code",
   "execution_count": null,
   "metadata": {},
   "outputs": [],
   "source": [
    "import numpy as np, pandas as pd, itertools, csv, matplotlib.pyplot as plt\n",
    "from sklearn import metrics\n",
    "from sklearn.model_selection import train_test_split\n",
    "from sklearn.feature_extraction.text import TfidfVectorizer\n",
    "from sklearn.linear_model import PassiveAggressiveClassifier\n",
    "from sklearn.metrics import accuracy_score, confusion_matrix\n",
    "import os\n",
    "dir = os.path.abspath(os.path.join(os.path.dirname('__file__'), '..'))"
   ]
  },
  {
   "cell_type": "code",
   "execution_count": null,
   "metadata": {},
   "outputs": [],
   "source": [
    "df = pd.read_csv(dir+'/data/news.csv')\n",
    "df.shape; labels = df.label"
   ]
  },
  {
   "cell_type": "code",
   "execution_count": null,
   "metadata": {},
   "outputs": [],
   "source": [
    "loop_count = 0\n",
    "test_size_range = [0.1, 0.2, 0.3, 0.4, 0.5, 0.6, 0.7, 0.8, 0.9]\n",
    "random_state_range = list(range(1, 2))\n",
    "max_df_range = [0.1, 0.2, 0.3, 0.4, 0.5, 0.6, 0.7, 0.8, 0.9]\n",
    "max_iter_range= list(range(1, 2))\n",
    "total_loop_count = (len(test_size_range)*len(random_state_range)*len(max_df_range)*len(max_iter_range))\n",
    "acc_list = []; test_size_list = []; max_iter_list = []; max_df_list = []; rand_state_list = []"
   ]
  },
  {
   "cell_type": "code",
   "execution_count": null,
   "metadata": {},
   "outputs": [],
   "source": [
    "for a in test_size_range:\n",
    "    for b in random_state_range:\n",
    "        for c in max_df_range:\n",
    "            for d in max_iter_range:\n",
    "                x_train, x_test, y_train, y_test = train_test_split(df['text'], labels, test_size = a, random_state = b)\n",
    "\n",
    "                tfidf_vectorizer=TfidfVectorizer(stop_words='english', max_df=c)\n",
    "                tfidf_train=tfidf_vectorizer.fit_transform(x_train) \n",
    "                tfidf_test=tfidf_vectorizer.transform(x_test)\n",
    "\n",
    "                pac = PassiveAggressiveClassifier(max_iter=d)\n",
    "                pac.fit(tfidf_train,y_train)\n",
    "                y_pred=pac.predict(tfidf_test)\n",
    "\n",
    "                score = accuracy_score(y_test,y_pred)\n",
    "                accuracy = str(round(score*100, 2))+str('%')\n",
    "                acc_list.append(accuracy); test_size_list.append(a); max_iter_list.append(d); max_df_list.append(c); rand_state_list.append(b)\n",
    "                \n",
    "                loop_count = loop_count+1\n",
    "                print(f'Loop: {loop_count}/{total_loop_count} Completed', end='\\r')"
   ]
  },
  {
   "cell_type": "code",
   "execution_count": null,
   "metadata": {},
   "outputs": [],
   "source": [
    "results_list = [[acc_list], [test_size_list], [max_iter_list], [max_df_list], [rand_state_list]]\n",
    "with open(dir+'/results/data/Results.csv', 'w+') as f:\n",
    "    write = csv.writer(f)\n",
    "    write.writerows(results_list)"
   ]
  },
  {
   "cell_type": "code",
   "execution_count": null,
   "metadata": {},
   "outputs": [],
   "source": [
    "y_list = [0,10,20,30,40,50,60,70,80,90,100]\n",
    "plt.figure()\n",
    "plt.plot(acc_list, y_list)\n",
    "plt.xlabel('Iterations')\n",
    "plt.ylabel('Accuracy')\n",
    "plt.title('Accuracy Analysis')\n",
    "plt.savefig(dir+'/results/images/Accuracy_Analysis.png', dpi=1000)\n",
    "plt.close()"
   ]
  }
 ],
 "metadata": {
  "kernelspec": {
   "display_name": "base",
   "language": "python",
   "name": "python3"
  },
  "language_info": {
   "codemirror_mode": {
    "name": "ipython",
    "version": 3
   },
   "file_extension": ".py",
   "mimetype": "text/x-python",
   "name": "python",
   "nbconvert_exporter": "python",
   "pygments_lexer": "ipython3",
   "version": "3.9.6"
  },
  "orig_nbformat": 4
 },
 "nbformat": 4,
 "nbformat_minor": 2
}
